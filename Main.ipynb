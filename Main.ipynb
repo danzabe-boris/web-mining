{
 "cells": [
  {
   "cell_type": "markdown",
   "id": "ad776127",
   "metadata": {
    "papermill": {
     "duration": 0.007513,
     "end_time": "2023-04-18T08:40:27.513368",
     "exception": false,
     "start_time": "2023-04-18T08:40:27.505855",
     "status": "completed"
    },
    "tags": []
   },
   "source": [
    "1. Faisons le web scrapping du site et stockons les informations sur le classement FIFA de l'équipe du Cameroun"
   ]
  },
  {
   "cell_type": "code",
   "execution_count": 1,
   "id": "84eb331e",
   "metadata": {
    "execution": {
     "iopub.execute_input": "2023-04-18T08:40:27.528816Z",
     "iopub.status.busy": "2023-04-18T08:40:27.527785Z",
     "iopub.status.idle": "2023-04-18T08:40:27.759860Z",
     "shell.execute_reply": "2023-04-18T08:40:27.758808Z"
    },
    "papermill": {
     "duration": 0.24298,
     "end_time": "2023-04-18T08:40:27.762708",
     "exception": false,
     "start_time": "2023-04-18T08:40:27.519728",
     "status": "completed"
    },
    "tags": []
   },
   "outputs": [],
   "source": [
    "import urllib\n",
    "import bs4\n",
    "import pandas as pd\n",
    "import numpy as np\n",
    "from urllib import request\n",
    "import os\n",
    "import requests"
   ]
  },
  {
   "cell_type": "code",
   "execution_count": 2,
   "id": "3d9a4c21",
   "metadata": {
    "execution": {
     "iopub.execute_input": "2023-04-18T08:40:27.778242Z",
     "iopub.status.busy": "2023-04-18T08:40:27.777147Z",
     "iopub.status.idle": "2023-04-18T08:40:28.544666Z",
     "shell.execute_reply": "2023-04-18T08:40:28.542978Z"
    },
    "papermill": {
     "duration": 0.778029,
     "end_time": "2023-04-18T08:40:28.547628",
     "exception": false,
     "start_time": "2023-04-18T08:40:27.769599",
     "status": "completed"
    },
    "tags": []
   },
   "outputs": [],
   "source": [
    "url = \"https://fr.wikipedia.org/wiki/%C3%89quipe_du_Cameroun_de_football\"\n",
    "\n",
    "request_text = request.urlopen(url).read()\n",
    "\n",
    "page = bs4.BeautifulSoup(request_text,'html.parser')"
   ]
  },
  {
   "cell_type": "code",
   "execution_count": 3,
   "id": "78f88ffc",
   "metadata": {
    "execution": {
     "iopub.execute_input": "2023-04-18T08:40:28.563137Z",
     "iopub.status.busy": "2023-04-18T08:40:28.562707Z",
     "iopub.status.idle": "2023-04-18T08:40:28.622068Z",
     "shell.execute_reply": "2023-04-18T08:40:28.620899Z"
    },
    "papermill": {
     "duration": 0.070493,
     "end_time": "2023-04-18T08:40:28.624863",
     "exception": false,
     "start_time": "2023-04-18T08:40:28.554370",
     "status": "completed"
    },
    "tags": []
   },
   "outputs": [
    {
     "data": {
      "text/html": [
       "<div>\n",
       "<style scoped>\n",
       "    .dataframe tbody tr th:only-of-type {\n",
       "        vertical-align: middle;\n",
       "    }\n",
       "\n",
       "    .dataframe tbody tr th {\n",
       "        vertical-align: top;\n",
       "    }\n",
       "\n",
       "    .dataframe thead th {\n",
       "        text-align: right;\n",
       "    }\n",
       "</style>\n",
       "<table border=\"1\" class=\"dataframe\">\n",
       "  <thead>\n",
       "    <tr style=\"text-align: right;\">\n",
       "      <th></th>\n",
       "      <th>Année</th>\n",
       "      <th>Classement mondial</th>\n",
       "      <th>Classement africain</th>\n",
       "    </tr>\n",
       "  </thead>\n",
       "  <tbody>\n",
       "    <tr>\n",
       "      <th>0</th>\n",
       "      <td>1993</td>\n",
       "      <td>23</td>\n",
       "      <td>2</td>\n",
       "    </tr>\n",
       "    <tr>\n",
       "      <th>1</th>\n",
       "      <td>1994</td>\n",
       "      <td>31</td>\n",
       "      <td>7</td>\n",
       "    </tr>\n",
       "    <tr>\n",
       "      <th>2</th>\n",
       "      <td>1995</td>\n",
       "      <td>37</td>\n",
       "      <td>7</td>\n",
       "    </tr>\n",
       "    <tr>\n",
       "      <th>3</th>\n",
       "      <td>1996</td>\n",
       "      <td>56</td>\n",
       "      <td>10</td>\n",
       "    </tr>\n",
       "    <tr>\n",
       "      <th>4</th>\n",
       "      <td>1997</td>\n",
       "      <td>53</td>\n",
       "      <td>7</td>\n",
       "    </tr>\n",
       "  </tbody>\n",
       "</table>\n",
       "</div>"
      ],
      "text/plain": [
       "  Année Classement mondial Classement africain\n",
       "0  1993                 23                   2\n",
       "1  1994                 31                   7\n",
       "2  1995                 37                   7\n",
       "3  1996                 56                  10\n",
       "4  1997                 53                   7"
      ]
     },
     "execution_count": 3,
     "metadata": {},
     "output_type": "execute_result"
    }
   ],
   "source": [
    "# Enregistrement de la table Classement FIFA dans la variable Table_Fifa\n",
    "table_fifa = page.find(\"span\", {\"id\" : \"Classement_FIFA\"}).parent.findNextSibling(\"table\")\n",
    "\n",
    "# Enregistrement des entêtes de la table résultante\n",
    "heads = [table_fifa.findAll(\"tr\")[i].find(\"th\").text.strip() for i in [0, 1, 2]]\n",
    "\n",
    "# Enregistrement de la table Classement FIFA dans un dataframe\n",
    "dico = dict() # Dictionnaire\n",
    "\n",
    "for i in [0, 1, 2]: # Enregistrement du contenu de chaque ligne dans le dictionnaire\n",
    "    dico[i] = [table_fifa.findAll(\"tr\")[i].findAll()[j].text.strip() \n",
    "               for j in np.arange(1, len(table_fifa.find(\"tr\").findAll()))]\n",
    "    \n",
    "class_fifa = pd.DataFrame.from_dict(dico, orient= \"columns\") # Dataframe\n",
    "class_fifa.columns = heads \n",
    "\n",
    "class_fifa.head() "
   ]
  },
  {
   "cell_type": "code",
   "execution_count": 4,
   "id": "73b3acd8",
   "metadata": {
    "execution": {
     "iopub.execute_input": "2023-04-18T08:40:28.640713Z",
     "iopub.status.busy": "2023-04-18T08:40:28.640273Z",
     "iopub.status.idle": "2023-04-18T08:40:28.655783Z",
     "shell.execute_reply": "2023-04-18T08:40:28.654402Z"
    },
    "papermill": {
     "duration": 0.026789,
     "end_time": "2023-04-18T08:40:28.658621",
     "exception": false,
     "start_time": "2023-04-18T08:40:28.631832",
     "status": "completed"
    },
    "tags": []
   },
   "outputs": [],
   "source": [
    "y = class_fifa[\"Année\"]\n",
    "X = class_fifa.drop(\"Année\", axis = 1)"
   ]
  },
  {
   "cell_type": "markdown",
   "id": "ab3fa2cc",
   "metadata": {
    "papermill": {
     "duration": 0.006823,
     "end_time": "2023-04-18T08:40:28.672326",
     "exception": false,
     "start_time": "2023-04-18T08:40:28.665503",
     "status": "completed"
    },
    "tags": []
   },
   "source": [
    "### __Prérequis__ \n",
    "Dans la suite du travail nous allons diviser notre base de données en deux :\n",
    "* *La base de données d'apprentissage (70%)*\n",
    "* *La base de données de test (30%)* \n",
    " \n",
    "Nous utilisons la fonction __train_test_split__ de la bibliothèque __SKLEARN__ pour diviser le jeu de données"
   ]
  },
  {
   "cell_type": "code",
   "execution_count": 5,
   "id": "4c9dbe0a",
   "metadata": {
    "execution": {
     "iopub.execute_input": "2023-04-18T08:40:28.687332Z",
     "iopub.status.busy": "2023-04-18T08:40:28.686891Z",
     "iopub.status.idle": "2023-04-18T08:40:29.688562Z",
     "shell.execute_reply": "2023-04-18T08:40:29.687327Z"
    },
    "papermill": {
     "duration": 1.012581,
     "end_time": "2023-04-18T08:40:29.691534",
     "exception": false,
     "start_time": "2023-04-18T08:40:28.678953",
     "status": "completed"
    },
    "tags": []
   },
   "outputs": [],
   "source": [
    "from sklearn.model_selection import train_test_split\n",
    "X_train, X_test, y_train, y_test = train_test_split(X, y, test_size = 0.3)"
   ]
  },
  {
   "cell_type": "markdown",
   "id": "5957be8f",
   "metadata": {
    "papermill": {
     "duration": 0.008008,
     "end_time": "2023-04-18T08:40:29.706150",
     "exception": false,
     "start_time": "2023-04-18T08:40:29.698142",
     "status": "completed"
    },
    "tags": []
   },
   "source": [
    "Construisons des modèles de classification:\n",
    "1. __La méthode Bayésienne__</br>\n",
    "Nous importons de la bibliothèque __SKLEARN__ la fonction __GaussianNB__ pour réaliser une classification basée sur la méthode Bayésienne"
   ]
  },
  {
   "cell_type": "code",
   "execution_count": 6,
   "id": "70938e28",
   "metadata": {
    "execution": {
     "iopub.execute_input": "2023-04-18T08:40:29.721334Z",
     "iopub.status.busy": "2023-04-18T08:40:29.720838Z",
     "iopub.status.idle": "2023-04-18T08:40:29.728879Z",
     "shell.execute_reply": "2023-04-18T08:40:29.727702Z"
    },
    "papermill": {
     "duration": 0.019191,
     "end_time": "2023-04-18T08:40:29.731848",
     "exception": false,
     "start_time": "2023-04-18T08:40:29.712657",
     "status": "completed"
    },
    "tags": []
   },
   "outputs": [],
   "source": [
    "from sklearn.naive_bayes import GaussianNB\n",
    "gnb = GaussianNB()"
   ]
  },
  {
   "cell_type": "code",
   "execution_count": 7,
   "id": "3af13288",
   "metadata": {
    "execution": {
     "iopub.execute_input": "2023-04-18T08:40:29.747376Z",
     "iopub.status.busy": "2023-04-18T08:40:29.746887Z",
     "iopub.status.idle": "2023-04-18T08:40:29.762971Z",
     "shell.execute_reply": "2023-04-18T08:40:29.761803Z"
    },
    "papermill": {
     "duration": 0.026803,
     "end_time": "2023-04-18T08:40:29.765412",
     "exception": false,
     "start_time": "2023-04-18T08:40:29.738609",
     "status": "completed"
    },
    "tags": []
   },
   "outputs": [
    {
     "data": {
      "text/plain": [
       "GaussianNB()"
      ]
     },
     "execution_count": 7,
     "metadata": {},
     "output_type": "execute_result"
    }
   ],
   "source": [
    "gnb.fit(X_train, y_train)"
   ]
  },
  {
   "cell_type": "markdown",
   "id": "4522bdea",
   "metadata": {
    "papermill": {
     "duration": 0.006506,
     "end_time": "2023-04-18T08:40:29.778808",
     "exception": false,
     "start_time": "2023-04-18T08:40:29.772302",
     "status": "completed"
    },
    "tags": []
   },
   "source": [
    "2. __La méthode KNN__ </br>\n",
    "Nous utilisons la bibiothèque __SKLEARN__ avec deux(02)fonctions:\n",
    "* __GridSearchCv__ Pour rechercher le meilleur nombre de voisin\n",
    "* __KNeighborsClassifier__ : Pour éffectuer la classification basée sur les k_plus proche voisin \n"
   ]
  },
  {
   "cell_type": "code",
   "execution_count": 8,
   "id": "9800c1ea",
   "metadata": {
    "execution": {
     "iopub.execute_input": "2023-04-18T08:40:29.795258Z",
     "iopub.status.busy": "2023-04-18T08:40:29.794166Z",
     "iopub.status.idle": "2023-04-18T08:40:29.921022Z",
     "shell.execute_reply": "2023-04-18T08:40:29.919767Z"
    },
    "papermill": {
     "duration": 0.137959,
     "end_time": "2023-04-18T08:40:29.924016",
     "exception": false,
     "start_time": "2023-04-18T08:40:29.786057",
     "status": "completed"
    },
    "tags": []
   },
   "outputs": [],
   "source": [
    "from sklearn.neighbors import KNeighborsClassifier\n",
    "from sklearn.model_selection import GridSearchCV\n",
    "import numpy as np\n",
    "\n",
    "classification = KNeighborsClassifier(n_neighbors = 4)\n",
    "\n",
    "param = {\n",
    "    \"n_neighbors\" : np.arange(1,3) \n",
    "}"
   ]
  },
  {
   "cell_type": "code",
   "execution_count": 9,
   "id": "df859833",
   "metadata": {
    "execution": {
     "iopub.execute_input": "2023-04-18T08:40:29.939903Z",
     "iopub.status.busy": "2023-04-18T08:40:29.938781Z",
     "iopub.status.idle": "2023-04-18T08:40:29.949647Z",
     "shell.execute_reply": "2023-04-18T08:40:29.948438Z"
    },
    "papermill": {
     "duration": 0.02143,
     "end_time": "2023-04-18T08:40:29.952159",
     "exception": false,
     "start_time": "2023-04-18T08:40:29.930729",
     "status": "completed"
    },
    "tags": []
   },
   "outputs": [
    {
     "data": {
      "text/plain": [
       "KNeighborsClassifier(n_neighbors=4)"
      ]
     },
     "execution_count": 9,
     "metadata": {},
     "output_type": "execute_result"
    }
   ],
   "source": [
    "classification.fit(X_train, y_train)\n",
    "    "
   ]
  },
  {
   "cell_type": "markdown",
   "id": "abd97377",
   "metadata": {
    "papermill": {
     "duration": 0.006739,
     "end_time": "2023-04-18T08:40:29.965779",
     "exception": false,
     "start_time": "2023-04-18T08:40:29.959040",
     "status": "completed"
    },
    "tags": []
   },
   "source": [
    "__Commentaire__ Nous pouvons visualiser dès à présent le meilleur nombre de voisin idéale pour cette classification\n",
    "et nous constatons que : </br> __k_ideale = 4__ "
   ]
  },
  {
   "cell_type": "markdown",
   "id": "2601b3a2",
   "metadata": {
    "papermill": {
     "duration": 0.00634,
     "end_time": "2023-04-18T08:40:29.978968",
     "exception": false,
     "start_time": "2023-04-18T08:40:29.972628",
     "status": "completed"
    },
    "tags": []
   },
   "source": [
    "Générons la matrice de confusion nous utilisons la fonction __confusion_matrix__ pour évaluer les modèles"
   ]
  },
  {
   "cell_type": "code",
   "execution_count": 10,
   "id": "e305a540",
   "metadata": {
    "execution": {
     "iopub.execute_input": "2023-04-18T08:40:29.994549Z",
     "iopub.status.busy": "2023-04-18T08:40:29.993707Z",
     "iopub.status.idle": "2023-04-18T08:40:29.999158Z",
     "shell.execute_reply": "2023-04-18T08:40:29.998050Z"
    },
    "papermill": {
     "duration": 0.015744,
     "end_time": "2023-04-18T08:40:30.001486",
     "exception": false,
     "start_time": "2023-04-18T08:40:29.985742",
     "status": "completed"
    },
    "tags": []
   },
   "outputs": [],
   "source": [
    "from sklearn.metrics import confusion_matrix"
   ]
  },
  {
   "cell_type": "markdown",
   "id": "703909cb",
   "metadata": {
    "papermill": {
     "duration": 0.006416,
     "end_time": "2023-04-18T08:40:30.014684",
     "exception": false,
     "start_time": "2023-04-18T08:40:30.008268",
     "status": "completed"
    },
    "tags": []
   },
   "source": [
    "* __Classification Bayésienne__"
   ]
  },
  {
   "cell_type": "code",
   "execution_count": 11,
   "id": "bc19e02e",
   "metadata": {
    "execution": {
     "iopub.execute_input": "2023-04-18T08:40:30.030216Z",
     "iopub.status.busy": "2023-04-18T08:40:30.029781Z",
     "iopub.status.idle": "2023-04-18T08:40:30.214164Z",
     "shell.execute_reply": "2023-04-18T08:40:30.212972Z"
    },
    "papermill": {
     "duration": 0.19537,
     "end_time": "2023-04-18T08:40:30.216951",
     "exception": false,
     "start_time": "2023-04-18T08:40:30.021581",
     "status": "completed"
    },
    "tags": []
   },
   "outputs": [],
   "source": [
    "import seaborn as sns\n",
    "import sklearn.metrics as skm\n",
    "import matplotlib.pyplot as plt"
   ]
  },
  {
   "cell_type": "code",
   "execution_count": 12,
   "id": "905247a0",
   "metadata": {
    "execution": {
     "iopub.execute_input": "2023-04-18T08:40:30.232088Z",
     "iopub.status.busy": "2023-04-18T08:40:30.231672Z",
     "iopub.status.idle": "2023-04-18T08:40:31.587447Z",
     "shell.execute_reply": "2023-04-18T08:40:31.585987Z"
    },
    "papermill": {
     "duration": 1.366464,
     "end_time": "2023-04-18T08:40:31.590203",
     "exception": false,
     "start_time": "2023-04-18T08:40:30.223739",
     "status": "completed"
    },
    "tags": []
   },
   "outputs": [
    {
     "name": "stderr",
     "output_type": "stream",
     "text": [
      "/opt/conda/lib/python3.7/site-packages/sklearn/utils/deprecation.py:87: FutureWarning: Function plot_confusion_matrix is deprecated; Function `plot_confusion_matrix` is deprecated in 1.0 and will be removed in 1.2. Use one of the class methods: ConfusionMatrixDisplay.from_predictions or ConfusionMatrixDisplay.from_estimator.\n",
      "  warnings.warn(msg, category=FutureWarning)\n"
     ]
    },
    {
     "data": {
      "text/plain": [
       "Text(0.5, 1.0, 'Confusion Matrix of a Naïve Bayes Model')"
      ]
     },
     "execution_count": 12,
     "metadata": {},
     "output_type": "execute_result"
    },
    {
     "data": {
      "image/png": "[encoded data removed]",
      "text/plain": [
       "<Figure size 720x720 with 2 Axes>"
      ]
     },
     "metadata": {
      "needs_background": "light"
     },
     "output_type": "display_data"
    }
   ],
   "source": [
    "fig, ax = plt.subplots(figsize = (10, 10))\n",
    "skm.plot_confusion_matrix(gnb, X_test, y_test, values_format=\"d\", cmap = \"Blues\", ax = ax)\n",
    "plt.title(\"Confusion Matrix of a Naïve Bayes Model\")\n"
   ]
  },
  {
   "cell_type": "markdown",
   "id": "51cfa452",
   "metadata": {
    "papermill": {
     "duration": 0.006967,
     "end_time": "2023-04-18T08:40:31.604722",
     "exception": false,
     "start_time": "2023-04-18T08:40:31.597755",
     "status": "completed"
    },
    "tags": []
   },
   "source": [
    "* __K-plus proche Voisin__"
   ]
  },
  {
   "cell_type": "code",
   "execution_count": 13,
   "id": "a13d70e5",
   "metadata": {
    "execution": {
     "iopub.execute_input": "2023-04-18T08:40:31.620954Z",
     "iopub.status.busy": "2023-04-18T08:40:31.620528Z",
     "iopub.status.idle": "2023-04-18T08:40:32.508715Z",
     "shell.execute_reply": "2023-04-18T08:40:32.507575Z"
    },
    "papermill": {
     "duration": 0.899295,
     "end_time": "2023-04-18T08:40:32.511242",
     "exception": false,
     "start_time": "2023-04-18T08:40:31.611947",
     "status": "completed"
    },
    "tags": []
   },
   "outputs": [
    {
     "name": "stderr",
     "output_type": "stream",
     "text": [
      "/opt/conda/lib/python3.7/site-packages/sklearn/utils/deprecation.py:87: FutureWarning: Function plot_confusion_matrix is deprecated; Function `plot_confusion_matrix` is deprecated in 1.0 and will be removed in 1.2. Use one of the class methods: ConfusionMatrixDisplay.from_predictions or ConfusionMatrixDisplay.from_estimator.\n",
      "  warnings.warn(msg, category=FutureWarning)\n"
     ]
    },
    {
     "data": {
      "text/plain": [
       "Text(0.5, 1.0, 'Confusion Matrix of a Naïve Bayes Model')"
      ]
     },
     "execution_count": 13,
     "metadata": {},
     "output_type": "execute_result"
    },
    {
     "data": {
      "image/png": "[encoded data removed]",
      "text/plain": [
       "<Figure size 720x720 with 2 Axes>"
      ]
     },
     "metadata": {
      "needs_background": "light"
     },
     "output_type": "display_data"
    }
   ],
   "source": [
    "fig, ax = plt.subplots(figsize = (10, 10))\n",
    "skm.plot_confusion_matrix(classification, X_test, y_test, values_format=\"d\", cmap = \"Blues\", ax = ax)\n",
    "plt.title(\"Confusion Matrix of a Naïve Bayes Model\")"
   ]
  },
  {
   "cell_type": "markdown",
   "id": "bbce5a4d",
   "metadata": {
    "papermill": {
     "duration": 0.008292,
     "end_time": "2023-04-18T08:40:32.527847",
     "exception": false,
     "start_time": "2023-04-18T08:40:32.519555",
     "status": "completed"
    },
    "tags": []
   },
   "source": [
    "Imprimons les rapports des classifications puis évaluons les deux modèles"
   ]
  },
  {
   "cell_type": "code",
   "execution_count": 14,
   "id": "a4d8922c",
   "metadata": {
    "execution": {
     "iopub.execute_input": "2023-04-18T08:40:32.546323Z",
     "iopub.status.busy": "2023-04-18T08:40:32.545878Z",
     "iopub.status.idle": "2023-04-18T08:40:32.552044Z",
     "shell.execute_reply": "2023-04-18T08:40:32.550899Z"
    },
    "papermill": {
     "duration": 0.018234,
     "end_time": "2023-04-18T08:40:32.554468",
     "exception": false,
     "start_time": "2023-04-18T08:40:32.536234",
     "status": "completed"
    },
    "tags": []
   },
   "outputs": [],
   "source": [
    "data = [[1, 1], [20, 1], [13, 2],[2,4]]\n",
    "df = pd.DataFrame(data, columns=['Class Mon', 'Class Afr'])"
   ]
  },
  {
   "cell_type": "code",
   "execution_count": 15,
   "id": "60f4c176",
   "metadata": {
    "execution": {
     "iopub.execute_input": "2023-04-18T08:40:32.573048Z",
     "iopub.status.busy": "2023-04-18T08:40:32.572283Z",
     "iopub.status.idle": "2023-04-18T08:40:32.584438Z",
     "shell.execute_reply": "2023-04-18T08:40:32.583259Z"
    },
    "papermill": {
     "duration": 0.024125,
     "end_time": "2023-04-18T08:40:32.586877",
     "exception": false,
     "start_time": "2023-04-18T08:40:32.562752",
     "status": "completed"
    },
    "tags": []
   },
   "outputs": [
    {
     "name": "stderr",
     "output_type": "stream",
     "text": [
      "/opt/conda/lib/python3.7/site-packages/sklearn/base.py:493: FutureWarning: The feature names should match those that were passed during fit. Starting version 1.2, an error will be raised.\n",
      "Feature names unseen at fit time:\n",
      "- Class Afr\n",
      "- Class Mon\n",
      "Feature names seen at fit time, yet now missing:\n",
      "- Classement africain\n",
      "- Classement mondial\n",
      "\n",
      "  warnings.warn(message, FutureWarning)\n"
     ]
    },
    {
     "data": {
      "text/plain": [
       "array(['2009', '2004', '2003', '2006'], dtype='<U4')"
      ]
     },
     "execution_count": 15,
     "metadata": {},
     "output_type": "execute_result"
    }
   ],
   "source": [
    "gnb.predict(df)"
   ]
  },
  {
   "cell_type": "code",
   "execution_count": 16,
   "id": "99dff503",
   "metadata": {
    "execution": {
     "iopub.execute_input": "2023-04-18T08:40:32.605167Z",
     "iopub.status.busy": "2023-04-18T08:40:32.604751Z",
     "iopub.status.idle": "2023-04-18T08:40:32.616597Z",
     "shell.execute_reply": "2023-04-18T08:40:32.615476Z"
    },
    "papermill": {
     "duration": 0.023607,
     "end_time": "2023-04-18T08:40:32.618736",
     "exception": false,
     "start_time": "2023-04-18T08:40:32.595129",
     "status": "completed"
    },
    "tags": []
   },
   "outputs": [
    {
     "name": "stderr",
     "output_type": "stream",
     "text": [
      "/opt/conda/lib/python3.7/site-packages/sklearn/base.py:493: FutureWarning: The feature names should match those that were passed during fit. Starting version 1.2, an error will be raised.\n",
      "Feature names unseen at fit time:\n",
      "- Class Afr\n",
      "- Class Mon\n",
      "Feature names seen at fit time, yet now missing:\n",
      "- Classement africain\n",
      "- Classement mondial\n",
      "\n",
      "  warnings.warn(message, FutureWarning)\n"
     ]
    },
    {
     "data": {
      "text/plain": [
       "array(['2002', '2002', '2002', '2002'], dtype=object)"
      ]
     },
     "execution_count": 16,
     "metadata": {},
     "output_type": "execute_result"
    }
   ],
   "source": [
    "classification.predict(df)"
   ]
  },
  {
   "cell_type": "markdown",
   "id": "c236400e",
   "metadata": {
    "papermill": {
     "duration": 0.008078,
     "end_time": "2023-04-18T08:40:32.635282",
     "exception": false,
     "start_time": "2023-04-18T08:40:32.627204",
     "status": "completed"
    },
    "tags": []
   },
   "source": [
    "Interrogeons chacun de nos modèles pour prédire l'année ou le Cameroun occupera les classements ci-dessous :\n",
    "1. __1ière place mondiale et Africaine__ :\n",
    "* __KNN__ : 1994\n",
    "* __NB__  : 2009\n",
    "2. __20ième place mondiale et 1ière place Africaine__ :\n",
    "* __KNN__ : 1994\n",
    "* __NB__ :2002\n",
    "3. __13ième place mondiale et 2ième place Africaine__ :\n",
    "* __KNN__ : 1994\n",
    "* __NB__ :2009\n",
    "4. __2ième place mondiale et 4ième place Africaine__ :\n",
    "* __KNN__ : 1994\n",
    "* __NB__ : 2009"
   ]
  },
  {
   "cell_type": "markdown",
   "id": "44d4c786",
   "metadata": {
    "papermill": {
     "duration": 0.008055,
     "end_time": "2023-04-18T08:40:32.651821",
     "exception": false,
     "start_time": "2023-04-18T08:40:32.643766",
     "status": "completed"
    },
    "tags": []
   },
   "source": [
    "Selon nous, le modèle le mieux adapter pour ce classement est recommandé d'utiliser l'algorithme de classification Bayésienne car selon notre modèle, il fait le moins d'erreur "
   ]
  }
 ],
 "metadata": {
  "kernelspec": {
   "display_name": "Python 3",
   "language": "python",
   "name": "python3"
  },
  "language_info": {
   "codemirror_mode": {
    "name": "ipython",
    "version": 3
   },
   "file_extension": ".py",
   "mimetype": "text/x-python",
   "name": "python",
   "nbconvert_exporter": "python",
   "pygments_lexer": "ipython3",
   "version": "3.7.12"
  },
  "papermill": {
   "default_parameters": {},
   "duration": 16.099492,
   "end_time": "2023-04-18T08:40:33.482829",
   "environment_variables": {},
   "exception": null,
   "input_path": "__notebook__.ipynb",
   "output_path": "__notebook__.ipynb",
   "parameters": {},
   "start_time": "2023-04-18T08:40:17.383337",
   "version": "2.3.4"
  }
 },
 "nbformat": 4,
 "nbformat_minor": 5
}
